{
  "nbformat": 4,
  "nbformat_minor": 0,
  "metadata": {
    "colab": {
      "name": "Untitled1.ipynb",
      "provenance": []
    },
    "kernelspec": {
      "name": "python3",
      "display_name": "Python 3"
    },
    "language_info": {
      "name": "python"
    }
  },
  "cells": [
    {
      "cell_type": "markdown",
      "source": [
        "#Welcome"
      ],
      "metadata": {
        "id": "XbCge1rqFT78"
      }
    },
    {
      "cell_type": "code",
      "source": [
        "#use secret message='zhofrph wr pb jlwkxe'\n",
        "#use secret number=3\n",
        "ele=input(\"enter the secret message: \")\n",
        "n=int(input(\"enter secret number:\"))\n",
        "def secret_code2(ele,n):\n",
        "  new_ele=list()\n",
        "  for i in range(len(ele)):\n",
        "    if ele[i]==\" \":\n",
        "      new_ele.append(ele[i])\n",
        "      continue\n",
        "    elif ele[i]==\".\" or ele[i]==\",\":\n",
        "      new_ele.append(ele[i])\n",
        "      continue \n",
        "    else:\n",
        "      temp=ord(ele[i])\n",
        "      temp=temp-n\n",
        "      new_ele.append(chr(temp))\n",
        "  for i in range(len(ele)):\n",
        "    if (new_ele[i]!=\" \" and new_ele[i]!=\".\") :\n",
        "      if ord(new_ele[i])<97:\n",
        "       tmp=(n-(97-ord(new_ele[i])))\n",
        "       new_ele[i]=chr(122-tmp)\n",
        "    else:\n",
        "      pass\n",
        "  return new_ele\n",
        "a=secret_code2(ele,n)\n",
        "print(ele)\n",
        "print(*a,sep=\"\")"
      ],
      "metadata": {
        "id": "LhfxtCWqFr5t"
      },
      "execution_count": null,
      "outputs": []
    },
    {
      "cell_type": "markdown",
      "source": [
        "#Encoder"
      ],
      "metadata": {
        "id": "wgO6kBbpQINl"
      }
    },
    {
      "cell_type": "code",
      "source": [
        "#use measseage- welcome to my github\n",
        "#use secret number 3\n",
        "ele=input(\"enter the string: \")           #enter string to be encoded\n",
        "n=int(input(\"enter secret number:\"))      #enter the key value\n",
        "def secret_code2(ele,n):\n",
        "  new_ele=list()\n",
        "  for i in range(len(ele)):\n",
        "    if ele[i]==\" \":\n",
        "      new_ele.append(ele[i])\n",
        "      continue\n",
        "    elif ele[i]==\".\" or ele[i]==\",\":\n",
        "      new_ele.append(ele[i])\n",
        "      continue \n",
        "    else:\n",
        "      temp=ord(ele[i])\n",
        "      temp=temp+n\n",
        "      new_ele.append(chr(temp))\n",
        "  for i in range(len(ele)):\n",
        "    if ord(new_ele[i])>122:\n",
        "      tmp=(ord(new_ele[i])-122-n)\n",
        "      new_ele[i]=chr(97-tmp)\n",
        "  return new_ele\n",
        "a=secret_code2(ele,n)\n",
        "print(\"Here's the encoded message\") \n",
        "print(*a,sep=\"\")"
      ],
      "metadata": {
        "colab": {
          "base_uri": "https://localhost:8080/"
        },
        "id": "lpipFmJSF0E5",
        "outputId": "619d4bf7-0fba-4568-f076-d0a610190b98"
      },
      "execution_count": 14,
      "outputs": [
        {
          "output_type": "stream",
          "name": "stdout",
          "text": [
            "enter the string: welcome to my github\n",
            "enter secret number:3\n",
            "Here's the encoded message\n",
            "zhofrph wr pb jlwkxe\n"
          ]
        }
      ]
    },
    {
      "cell_type": "code",
      "source": [
        ""
      ],
      "metadata": {
        "id": "YsqlQNVUGLyF"
      },
      "execution_count": null,
      "outputs": []
    }
  ]
}
